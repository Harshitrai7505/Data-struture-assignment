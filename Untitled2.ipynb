{
  "nbformat": 4,
  "nbformat_minor": 0,
  "metadata": {
    "colab": {
      "provenance": [],
      "authorship_tag": "ABX9TyNMTPGOYZ0BHv4MikVtKLuH",
      "include_colab_link": true
    },
    "kernelspec": {
      "name": "python3",
      "display_name": "Python 3"
    },
    "language_info": {
      "name": "python"
    }
  },
  "cells": [
    {
      "cell_type": "markdown",
      "metadata": {
        "id": "view-in-github",
        "colab_type": "text"
      },
      "source": [
        "<a href=\"https://colab.research.google.com/github/Harshitrai7505/Data-struture-assignment/blob/main/Untitled2.ipynb\" target=\"_parent\"><img src=\"https://colab.research.google.com/assets/colab-badge.svg\" alt=\"Open In Colab\"/></a>"
      ]
    },
    {
      "cell_type": "markdown",
      "source": [
        "# Q1- What is the difference between a function and a method in pyhton?\n",
        "\n",
        "\n",
        "Definition: A method is a function that is associated with an object or a class. Methods are defined within a class and typically operate on instances of that class.\n",
        "\n",
        "Usage: Methods are invoked on instances of the class or on the class itself (for class methods).\n",
        "\n",
        "Example:"
      ],
      "metadata": {
        "id": "qe3MZvMwlX29"
      }
    },
    {
      "cell_type": "code",
      "source": [
        "class Calculator:\n",
        "    def __init__(self, value):\n",
        "        self.value = value\n",
        "\n",
        "    def add(self, x):\n",
        "        self.value += x\n",
        "\n",
        "calc = Calculator(10)  # Creating an instance\n",
        "calc.add(5)            # Calling the method on the instance"
      ],
      "metadata": {
        "id": "lW9-Gl2eloq3"
      },
      "execution_count": null,
      "outputs": []
    },
    {
      "cell_type": "markdown",
      "source": [
        "# Q2- Explain the concept of function arguments and parameters in python.\n",
        "\n",
        "\n",
        "In Python, function arguments and parameters are crucial concepts for writing flexible and reusable code. Here's a detailed breakdown of both:\n",
        "\n",
        "\n",
        "Parameters Definition: Parameters are variables listed in a function’s definition. They act as placeholders for the values that will be passed to the function.\n",
        "\n",
        "Example-"
      ],
      "metadata": {
        "id": "wUTZqoe9lyGr"
      }
    },
    {
      "cell_type": "code",
      "source": [
        "def greet(name, age):  # 'name' and 'age' are parameters\n",
        "    print(f\"Hello {name}, you are {age} years old.\")"
      ],
      "metadata": {
        "id": "pyx5n3j_l7Ci"
      },
      "execution_count": null,
      "outputs": []
    }
  ]
}